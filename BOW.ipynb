{
 "cells": [
  {
   "cell_type": "code",
   "execution_count": 1,
   "id": "4318d1f1",
   "metadata": {},
   "outputs": [],
   "source": [
    "import nltk\n",
    "import re #regular expression\n",
    "from nltk.corpus import stopwords\n",
    "from nltk.stem.porter import PorterStemmer\n",
    "from nltk.stem import WordNetLemmatizer"
   ]
  },
  {
   "cell_type": "code",
   "execution_count": 20,
   "id": "9c4ef566",
   "metadata": {},
   "outputs": [],
   "source": [
    "ps=PorterStemmer()\n",
    "lem=WordNetLemmatizer()\n"
   ]
  },
  {
   "cell_type": "code",
   "execution_count": 21,
   "id": "01d9b052",
   "metadata": {},
   "outputs": [],
   "source": [
    "paragraph = \"\"\"History second vision for India's development . The sun dipped below the horizon, casting a warm glow across the tranquil beach. The gentle lapping of waves against the shore provided a soothing soundtrack to the scene. Seagulls soared gracefully overhead, their calls echoing in the salty breeze. As dusk settled in, the sky transformed into a canvas of vibrant hues, painting streaks of pink, orange, and gold against the fading blue. A sense of serenity enveloped the surroundings, offering a moment of quiet reflection amidst the beauty of nature.\n",
    "\n",
    "\"\"\""
   ]
  },
  {
   "cell_type": "code",
   "execution_count": 22,
   "id": "1fdf09e5",
   "metadata": {},
   "outputs": [
    {
     "data": {
      "text/plain": [
       "[\"History second vision for India's development .\",\n",
       " 'The sun dipped below the horizon, casting a warm glow across the tranquil beach.',\n",
       " 'The gentle lapping of waves against the shore provided a soothing soundtrack to the scene.',\n",
       " 'Seagulls soared gracefully overhead, their calls echoing in the salty breeze.',\n",
       " 'As dusk settled in, the sky transformed into a canvas of vibrant hues, painting streaks of pink, orange, and gold against the fading blue.',\n",
       " 'A sense of serenity enveloped the surroundings, offering a moment of quiet reflection amidst the beauty of nature.']"
      ]
     },
     "execution_count": 22,
     "metadata": {},
     "output_type": "execute_result"
    }
   ],
   "source": [
    "sentences=nltk.sent_tokenize(paragraph)\n",
    "sentences"
   ]
  },
  {
   "cell_type": "code",
   "execution_count": 24,
   "id": "5899af12",
   "metadata": {},
   "outputs": [],
   "source": [
    "corpus=[]\n",
    "for i in range(len(sentences)):\n",
    "    review=re.sub('[^a-zA-Z]',' ',sentences[i])\n",
    "\n",
    "    review=review.lower()\n",
    "    \n",
    "    review=review.split()\n",
    "    \n",
    "    review=[lem.lemmatize(word) for word in review if not word in set(stopwords.words('english'))]\n",
    "    review=' '.join(review)\n",
    "    corpus.append(review)\n",
    "    \n",
    "    \n",
    "    \n",
    "    "
   ]
  },
  {
   "cell_type": "code",
   "execution_count": 25,
   "id": "5d3bc798",
   "metadata": {},
   "outputs": [
    {
     "data": {
      "text/plain": [
       "['history second vision india development',\n",
       " 'sun dipped horizon casting warm glow across tranquil beach',\n",
       " 'gentle lapping wave shore provided soothing soundtrack scene',\n",
       " 'seagull soared gracefully overhead call echoing salty breeze',\n",
       " 'dusk settled sky transformed canvas vibrant hue painting streak pink orange gold fading blue',\n",
       " 'sense serenity enveloped surroundings offering moment quiet reflection amidst beauty nature']"
      ]
     },
     "execution_count": 25,
     "metadata": {},
     "output_type": "execute_result"
    }
   ],
   "source": [
    "corpus"
   ]
  },
  {
   "cell_type": "code",
   "execution_count": 26,
   "id": "1762fc79",
   "metadata": {},
   "outputs": [],
   "source": [
    "# Creating Bag of Words"
   ]
  },
  {
   "cell_type": "code",
   "execution_count": 27,
   "id": "8affab8a",
   "metadata": {},
   "outputs": [],
   "source": [
    "from sklearn.feature_extraction.text import CountVectorizer #preprocessing"
   ]
  },
  {
   "cell_type": "code",
   "execution_count": 28,
   "id": "0218008b",
   "metadata": {},
   "outputs": [],
   "source": [
    "cv=CountVectorizer()\n",
    "x=cv.fit_transform(corpus).toarray()"
   ]
  },
  {
   "cell_type": "code",
   "execution_count": 30,
   "id": "f0c7aeac",
   "metadata": {},
   "outputs": [
    {
     "data": {
      "text/plain": [
       "array([0, 0, 0, 0, 0, 0, 0, 0, 0, 1, 0, 0, 0, 0, 0, 0, 0, 0, 0, 1, 0, 0,\n",
       "       1, 0, 0, 0, 0, 0, 0, 0, 0, 0, 0, 0, 0, 0, 0, 1, 0, 0, 0, 0, 0, 0,\n",
       "       0, 0, 0, 0, 0, 0, 0, 0, 1, 0, 0])"
      ]
     },
     "execution_count": 30,
     "metadata": {},
     "output_type": "execute_result"
    }
   ],
   "source": [
    "x[0]"
   ]
  },
  {
   "cell_type": "code",
   "execution_count": null,
   "id": "f004c160",
   "metadata": {},
   "outputs": [],
   "source": []
  }
 ],
 "metadata": {
  "kernelspec": {
   "display_name": "Python 3 (ipykernel)",
   "language": "python",
   "name": "python3"
  },
  "language_info": {
   "codemirror_mode": {
    "name": "ipython",
    "version": 3
   },
   "file_extension": ".py",
   "mimetype": "text/x-python",
   "name": "python",
   "nbconvert_exporter": "python",
   "pygments_lexer": "ipython3",
   "version": "3.11.3"
  }
 },
 "nbformat": 4,
 "nbformat_minor": 5
}
