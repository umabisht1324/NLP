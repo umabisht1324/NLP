{
 "cells": [
  {
   "cell_type": "markdown",
   "id": "487f192b",
   "metadata": {},
   "source": [
    "#### we cannot give the \"words\" back to the model as it will not understands the text data , so we will do some preprocessing and convert them  into vectors using various conversion algorithms\n",
    "\n",
    "### 1. Stemming and Lemmatization\n",
    "### 2. TFID\n",
    "### 3. word2vec\n",
    "### 4. bag of words\n",
    "\n",
    "\n",
    "### ----------------------------------------------------------------------------------------------------------------------------\n",
    "\n",
    "## 1. Stemming and Lemmatization\n",
    "#### stemming -> Process of Reducing Infected Words to their Word Stem\n",
    "###### Not much time\n",
    "###### Sentiment classifier\n",
    "###### Spam Classifier\n",
    "\n",
    "\n",
    "Eg 1:\n",
    "history/historical -->  histori    \n",
    "\n",
    "Eg 2:\n",
    "finally/final/finalize -->  fina\n",
    "\n",
    "Eg 3:\n",
    "going/goes/gone --> go\n",
    "\n",
    "\n",
    "#### lemmatization -> it also does the same thing but in return give some meaningful word.\n",
    "###### It takes some amount of time\n",
    "###### Chat bot\n",
    "\n",
    "Eg 1:\n",
    "history/historical -->  history   \n",
    "\n",
    "Eg 2:\n",
    "finally/final/finalize -->  final\n",
    "\n",
    "\n"
   ]
  },
  {
   "cell_type": "code",
   "execution_count": 13,
   "id": "ed4e2533",
   "metadata": {},
   "outputs": [],
   "source": [
    "\n",
    "import nltk\n",
    "from nltk.stem import PorterStemmer,WordNetLemmatizer\n",
    "from nltk.corpus import stopwords\n",
    "\n",
    "# PorterStemmer is a library used for scanning purpose\n",
    "# stopwords helps us to remove the words which didn't paly important role in sentimental analysis like of , then , it , on "
   ]
  },
  {
   "cell_type": "code",
   "execution_count": 14,
   "id": "e595c76b",
   "metadata": {},
   "outputs": [],
   "source": [
    "paragraph=\"\"\"History second vision for India's development . The sun dipped below the horizon, casting a warm glow across the tranquil beach. The gentle lapping of waves against the shore provided a soothing soundtrack to the scene. Seagulls soared gracefully overhead, their calls echoing in the salty breeze. As dusk settled in, the sky transformed into a canvas of vibrant hues, painting streaks of pink, orange, and gold against the fading blue. A sense of serenity enveloped the surroundings, offering a moment of quiet reflection amidst the beauty of nature.\n",
    "\"\"\""
   ]
  },
  {
   "cell_type": "code",
   "execution_count": 15,
   "id": "5dc5e12a",
   "metadata": {},
   "outputs": [],
   "source": [
    "sentence=nltk.sent_tokenize(paragraph)"
   ]
  },
  {
   "cell_type": "code",
   "execution_count": 16,
   "id": "e438cd13",
   "metadata": {},
   "outputs": [
    {
     "data": {
      "text/plain": [
       "\"History second vision for India's development .\""
      ]
     },
     "execution_count": 16,
     "metadata": {},
     "output_type": "execute_result"
    }
   ],
   "source": [
    "sentence[0]"
   ]
  },
  {
   "cell_type": "code",
   "execution_count": null,
   "id": "1e64f3e3",
   "metadata": {},
   "outputs": [],
   "source": []
  },
  {
   "cell_type": "code",
   "execution_count": null,
   "id": "eee0181e",
   "metadata": {},
   "outputs": [],
   "source": []
  },
  {
   "cell_type": "code",
   "execution_count": 17,
   "id": "5885c7bd",
   "metadata": {},
   "outputs": [],
   "source": [
    "stemmer=PorterStemmer()\n",
    "lemmitizer=WordNetLemmatizer()"
   ]
  },
  {
   "cell_type": "code",
   "execution_count": null,
   "id": "efdab533",
   "metadata": {},
   "outputs": [],
   "source": []
  },
  {
   "cell_type": "code",
   "execution_count": 18,
   "id": "6ea25562",
   "metadata": {},
   "outputs": [],
   "source": [
    "# stopwords.words('english')"
   ]
  },
  {
   "cell_type": "code",
   "execution_count": 7,
   "id": "2ccb0912",
   "metadata": {},
   "outputs": [],
   "source": [
    "#stemming\n",
    "\n",
    "for i in range(len(sentence)):\n",
    "    words=nltk.word_tokenize(sentence[i])\n",
    "    words=[stemmer.stem(word) for word in words if word not in set(stopwords.words('english'))]\n",
    "    sentence[i]=' '.join(words)\n",
    "    "
   ]
  },
  {
   "cell_type": "code",
   "execution_count": 19,
   "id": "66a3f65c",
   "metadata": {},
   "outputs": [
    {
     "data": {
      "text/plain": [
       "\"History second vision for India's development .\""
      ]
     },
     "execution_count": 19,
     "metadata": {},
     "output_type": "execute_result"
    }
   ],
   "source": [
    "sentence[0]"
   ]
  },
  {
   "cell_type": "code",
   "execution_count": 20,
   "id": "243cdd31",
   "metadata": {},
   "outputs": [],
   "source": [
    "#lemmatization\n",
    "for i in range(len(sentence)):\n",
    "    words=nltk.word_tokenize(sentence[i])\n",
    "    words=[lemmitizer.lemmatize(word) for word in words if word not in set(stopwords.words('english'))]\n",
    "    sentence[i]=' '.join(words)\n"
   ]
  },
  {
   "cell_type": "code",
   "execution_count": 21,
   "id": "febfa9e1",
   "metadata": {},
   "outputs": [],
   "source": [
    "# words"
   ]
  },
  {
   "cell_type": "code",
   "execution_count": 31,
   "id": "24e87a14",
   "metadata": {},
   "outputs": [
    {
     "data": {
      "text/plain": [
       "'The sun dipped horizon , casting warm glow across tranquil beach .'"
      ]
     },
     "execution_count": 31,
     "metadata": {},
     "output_type": "execute_result"
    }
   ],
   "source": [
    "sentence[1]"
   ]
  },
  {
   "cell_type": "code",
   "execution_count": null,
   "id": "3fdd9e1c",
   "metadata": {},
   "outputs": [],
   "source": []
  },
  {
   "cell_type": "code",
   "execution_count": 25,
   "id": "0d98fa43",
   "metadata": {},
   "outputs": [],
   "source": []
  },
  {
   "cell_type": "code",
   "execution_count": 29,
   "id": "3fe4c9f2",
   "metadata": {},
   "outputs": [],
   "source": []
  },
  {
   "cell_type": "code",
   "execution_count": null,
   "id": "6ea0507e",
   "metadata": {},
   "outputs": [],
   "source": []
  },
  {
   "cell_type": "code",
   "execution_count": null,
   "id": "deb1bc63",
   "metadata": {},
   "outputs": [],
   "source": []
  },
  {
   "cell_type": "code",
   "execution_count": null,
   "id": "b863dff0",
   "metadata": {},
   "outputs": [],
   "source": []
  }
 ],
 "metadata": {
  "kernelspec": {
   "display_name": "Python 3 (ipykernel)",
   "language": "python",
   "name": "python3"
  },
  "language_info": {
   "codemirror_mode": {
    "name": "ipython",
    "version": 3
   },
   "file_extension": ".py",
   "mimetype": "text/x-python",
   "name": "python",
   "nbconvert_exporter": "python",
   "pygments_lexer": "ipython3",
   "version": "3.11.3"
  }
 },
 "nbformat": 4,
 "nbformat_minor": 5
}
