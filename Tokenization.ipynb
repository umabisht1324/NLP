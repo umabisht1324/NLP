{
 "cells": [
  {
   "cell_type": "code",
   "execution_count": 1,
   "id": "e528f5a2",
   "metadata": {},
   "outputs": [],
   "source": [
    "import nltk\n"
   ]
  },
  {
   "cell_type": "code",
   "execution_count": 2,
   "id": "cb5dee39",
   "metadata": {},
   "outputs": [
    {
     "name": "stdout",
     "output_type": "stream",
     "text": [
      "showing info https://raw.githubusercontent.com/nltk/nltk_data/gh-pages/index.xml\n"
     ]
    },
    {
     "name": "stderr",
     "output_type": "stream",
     "text": [
      "[nltk_data] Downloading package punkt to /Users/umabisht/nltk_data...\n",
      "[nltk_data]   Package punkt is already up-to-date!\n"
     ]
    },
    {
     "data": {
      "text/plain": [
       "True"
      ]
     },
     "execution_count": 2,
     "metadata": {},
     "output_type": "execute_result"
    }
   ],
   "source": [
    "nltk.download()\n",
    "# nltk.download('punkt')"
   ]
  },
  {
   "cell_type": "code",
   "execution_count": 2,
   "id": "a19e7d8d",
   "metadata": {},
   "outputs": [],
   "source": [
    "paragraph=\"\"\"\n",
    "The sun dipped below the horizon, casting a warm glow across the tranquil beach. The gentle lapping of waves against the shore provided a soothing soundtrack to the scene. Seagulls soared gracefully overhead, their calls echoing in the salty breeze. As dusk settled in, the sky transformed into a canvas of vibrant hues, painting streaks of pink, orange, and gold against the fading blue. A sense of serenity enveloped the surroundings, offering a moment of quiet reflection amidst the beauty of nature.\n",
    "\"\"\""
   ]
  },
  {
   "cell_type": "code",
   "execution_count": 3,
   "id": "537a9a29",
   "metadata": {},
   "outputs": [
    {
     "data": {
      "text/plain": [
       "['\\nThe sun dipped below the horizon, casting a warm glow across the tranquil beach.',\n",
       " 'The gentle lapping of waves against the shore provided a soothing soundtrack to the scene.',\n",
       " 'Seagulls soared gracefully overhead, their calls echoing in the salty breeze.',\n",
       " 'As dusk settled in, the sky transformed into a canvas of vibrant hues, painting streaks of pink, orange, and gold against the fading blue.',\n",
       " 'A sense of serenity enveloped the surroundings, offering a moment of quiet reflection amidst the beauty of nature.']"
      ]
     },
     "execution_count": 3,
     "metadata": {},
     "output_type": "execute_result"
    }
   ],
   "source": [
    "# converting paragraph into sentences\n",
    "sentences=nltk.sent_tokenize(paragraph)\n",
    "sentences"
   ]
  },
  {
   "cell_type": "code",
   "execution_count": 4,
   "id": "2f4c769e",
   "metadata": {},
   "outputs": [
    {
     "data": {
      "text/plain": [
       "['The',\n",
       " 'sun',\n",
       " 'dipped',\n",
       " 'below',\n",
       " 'the',\n",
       " 'horizon',\n",
       " ',',\n",
       " 'casting',\n",
       " 'a',\n",
       " 'warm',\n",
       " 'glow',\n",
       " 'across',\n",
       " 'the',\n",
       " 'tranquil',\n",
       " 'beach',\n",
       " '.',\n",
       " 'The',\n",
       " 'gentle',\n",
       " 'lapping',\n",
       " 'of',\n",
       " 'waves',\n",
       " 'against',\n",
       " 'the',\n",
       " 'shore',\n",
       " 'provided',\n",
       " 'a',\n",
       " 'soothing',\n",
       " 'soundtrack',\n",
       " 'to',\n",
       " 'the',\n",
       " 'scene',\n",
       " '.',\n",
       " 'Seagulls',\n",
       " 'soared',\n",
       " 'gracefully',\n",
       " 'overhead',\n",
       " ',',\n",
       " 'their',\n",
       " 'calls',\n",
       " 'echoing',\n",
       " 'in',\n",
       " 'the',\n",
       " 'salty',\n",
       " 'breeze',\n",
       " '.',\n",
       " 'As',\n",
       " 'dusk',\n",
       " 'settled',\n",
       " 'in',\n",
       " ',',\n",
       " 'the',\n",
       " 'sky',\n",
       " 'transformed',\n",
       " 'into',\n",
       " 'a',\n",
       " 'canvas',\n",
       " 'of',\n",
       " 'vibrant',\n",
       " 'hues',\n",
       " ',',\n",
       " 'painting',\n",
       " 'streaks',\n",
       " 'of',\n",
       " 'pink',\n",
       " ',',\n",
       " 'orange',\n",
       " ',',\n",
       " 'and',\n",
       " 'gold',\n",
       " 'against',\n",
       " 'the',\n",
       " 'fading',\n",
       " 'blue',\n",
       " '.',\n",
       " 'A',\n",
       " 'sense',\n",
       " 'of',\n",
       " 'serenity',\n",
       " 'enveloped',\n",
       " 'the',\n",
       " 'surroundings',\n",
       " ',',\n",
       " 'offering',\n",
       " 'a',\n",
       " 'moment',\n",
       " 'of',\n",
       " 'quiet',\n",
       " 'reflection',\n",
       " 'amidst',\n",
       " 'the',\n",
       " 'beauty',\n",
       " 'of',\n",
       " 'nature',\n",
       " '.']"
      ]
     },
     "execution_count": 4,
     "metadata": {},
     "output_type": "execute_result"
    }
   ],
   "source": [
    "# converting sentences into words\n",
    "words=nltk.word_tokenize(paragraph)\n",
    "words\n"
   ]
  },
  {
   "cell_type": "code",
   "execution_count": null,
   "id": "14340759",
   "metadata": {},
   "outputs": [],
   "source": []
  },
  {
   "cell_type": "code",
   "execution_count": null,
   "id": "17e532bc",
   "metadata": {},
   "outputs": [],
   "source": []
  },
  {
   "cell_type": "code",
   "execution_count": null,
   "id": "5fd5aaff",
   "metadata": {},
   "outputs": [],
   "source": []
  }
 ],
 "metadata": {
  "kernelspec": {
   "display_name": "Python 3 (ipykernel)",
   "language": "python",
   "name": "python3"
  },
  "language_info": {
   "codemirror_mode": {
    "name": "ipython",
    "version": 3
   },
   "file_extension": ".py",
   "mimetype": "text/x-python",
   "name": "python",
   "nbconvert_exporter": "python",
   "pygments_lexer": "ipython3",
   "version": "3.11.3"
  }
 },
 "nbformat": 4,
 "nbformat_minor": 5
}
