{
 "cells": [
  {
   "cell_type": "code",
   "execution_count": 1,
   "id": "f3f8c889",
   "metadata": {},
   "outputs": [],
   "source": [
    "import nltk"
   ]
  },
  {
   "cell_type": "code",
   "execution_count": null,
   "id": "444486a3",
   "metadata": {},
   "outputs": [
    {
     "name": "stdout",
     "output_type": "stream",
     "text": [
      "showing info https://raw.githubusercontent.com/nltk/nltk_data/gh-pages/index.xml\n"
     ]
    }
   ],
   "source": [
    "nltk.download()\n",
    "# nltk.download('punkt')"
   ]
  },
  {
   "cell_type": "code",
   "execution_count": null,
   "id": "00789ec0",
   "metadata": {},
   "outputs": [],
   "source": [
    "paragraph=\"\"\"\n",
    "The sun dipped below the horizon, casting a warm glow across the tranquil beach. The gentle lapping of waves against the shore provided a soothing soundtrack to the scene. Seagulls soared gracefully overhead, their calls echoing in the salty breeze. As dusk settled in, the sky transformed into a canvas of vibrant hues, painting streaks of pink, orange, and gold against the fading blue. A sense of serenity enveloped the surroundings, offering a moment of quiet reflection amidst the beauty of nature.\n",
    "\"\"\""
   ]
  },
  {
   "cell_type": "code",
   "execution_count": null,
   "id": "8854c7c0",
   "metadata": {},
   "outputs": [],
   "source": [
    "# converting paragraph into sentences\n",
    "sentences=nltk.sent_tokenize(paragraph)\n",
    "sentences"
   ]
  },
  {
   "cell_type": "code",
   "execution_count": null,
   "id": "db7b5de2",
   "metadata": {},
   "outputs": [],
   "source": [
    "# converting sentences into words\n",
    "words=nltk.word_tokenize(paragraph)\n",
    "words\n"
   ]
  },
  {
   "cell_type": "code",
   "execution_count": null,
   "id": "c1ef768b",
   "metadata": {},
   "outputs": [],
   "source": []
  },
  {
   "cell_type": "code",
   "execution_count": null,
   "id": "8d060ad6",
   "metadata": {},
   "outputs": [],
   "source": []
  }
 ],
 "metadata": {
  "kernelspec": {
   "display_name": "Python 3 (ipykernel)",
   "language": "python",
   "name": "python3"
  },
  "language_info": {
   "codemirror_mode": {
    "name": "ipython",
    "version": 3
   },
   "file_extension": ".py",
   "mimetype": "text/x-python",
   "name": "python",
   "nbconvert_exporter": "python",
   "pygments_lexer": "ipython3",
   "version": "3.11.3"
  }
 },
 "nbformat": 4,
 "nbformat_minor": 5
}
